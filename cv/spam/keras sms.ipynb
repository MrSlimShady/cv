{
 "cells": [
  {
   "cell_type": "markdown",
   "metadata": {},
   "source": [
    "# Description<br>\n",
    "Initially I took this up to see how good to see how well I can perform on this data set using only the words as features and nothing else. Using much smaller neural networks than used here and tuning them i got an f1 score of 0.92. Then I tried doing the same with including other models like neural netwoks. The maximum f1 score that i have got is <strong>0.9764309764309764</strong>. This score was obtained after Ensembling the models using a voting classifier\n",
    "\n",
    " Since no voting classifier is present in Keras I built an approximate version of my own."
   ]
  },
  {
   "cell_type": "code",
   "execution_count": 1,
   "metadata": {},
   "outputs": [
    {
     "name": "stderr",
     "output_type": "stream",
     "text": [
      "C:\\Users\\Lenovo\\Anaconda3\\envs\\tensorflow\\lib\\site-packages\\h5py\\__init__.py:36: FutureWarning: Conversion of the second argument of issubdtype from `float` to `np.floating` is deprecated. In future, it will be treated as `np.float64 == np.dtype(float).type`.\n",
      "  from ._conv import register_converters as _register_converters\n",
      "Using TensorFlow backend.\n"
     ]
    }
   ],
   "source": [
    "import tensorflow as tf\n",
    "import numpy \n",
    "import keras\n",
    "from keras import backend as K\n",
    "from keras.models import Sequential\n",
    "from keras.layers import Activation\n",
    "from keras.layers.core import Dense,Flatten\n",
    "from keras.optimizers import Adam\n",
    "from keras.metrics import categorical_crossentropy\n",
    "from keras.preprocessing.image import ImageDataGenerator\n",
    "from keras.layers.normalization import BatchNormalization\n",
    "from keras.layers.convolutional import *\n",
    "from sklearn.metrics import confusion_matrix\n",
    "import itertools\n",
    "import matplotlib.pyplot as plt\n",
    "from keras.layers import Dropout\n",
    "%matplotlib inline"
   ]
  },
  {
   "cell_type": "code",
   "execution_count": 2,
   "metadata": {},
   "outputs": [
    {
     "data": {
      "text/html": [
       "<div>\n",
       "<style scoped>\n",
       "    .dataframe tbody tr th:only-of-type {\n",
       "        vertical-align: middle;\n",
       "    }\n",
       "\n",
       "    .dataframe tbody tr th {\n",
       "        vertical-align: top;\n",
       "    }\n",
       "\n",
       "    .dataframe thead th {\n",
       "        text-align: right;\n",
       "    }\n",
       "</style>\n",
       "<table border=\"1\" class=\"dataframe\">\n",
       "  <thead>\n",
       "    <tr style=\"text-align: right;\">\n",
       "      <th></th>\n",
       "      <th>is spam</th>\n",
       "      <th>text</th>\n",
       "    </tr>\n",
       "  </thead>\n",
       "  <tbody>\n",
       "    <tr>\n",
       "      <th>1</th>\n",
       "      <td>0</td>\n",
       "      <td>Go until jurong point, crazy.. Available only ...</td>\n",
       "    </tr>\n",
       "    <tr>\n",
       "      <th>2</th>\n",
       "      <td>0</td>\n",
       "      <td>Ok lar... Joking wif u oni...</td>\n",
       "    </tr>\n",
       "    <tr>\n",
       "      <th>3</th>\n",
       "      <td>1</td>\n",
       "      <td>Free entry in 2 a wkly comp to win FA Cup fina...</td>\n",
       "    </tr>\n",
       "    <tr>\n",
       "      <th>4</th>\n",
       "      <td>0</td>\n",
       "      <td>U dun say so early hor... U c already then say...</td>\n",
       "    </tr>\n",
       "    <tr>\n",
       "      <th>5</th>\n",
       "      <td>0</td>\n",
       "      <td>Nah I don't think he goes to usf, he lives aro...</td>\n",
       "    </tr>\n",
       "  </tbody>\n",
       "</table>\n",
       "</div>"
      ],
      "text/plain": [
       "   is spam                                               text\n",
       "1        0  Go until jurong point, crazy.. Available only ...\n",
       "2        0                      Ok lar... Joking wif u oni...\n",
       "3        1  Free entry in 2 a wkly comp to win FA Cup fina...\n",
       "4        0  U dun say so early hor... U c already then say...\n",
       "5        0  Nah I don't think he goes to usf, he lives aro..."
      ]
     },
     "execution_count": 2,
     "metadata": {},
     "output_type": "execute_result"
    }
   ],
   "source": [
    "import pandas as pd\n",
    "data = pd.read_csv('sms-spam.csv',usecols=['is spam','text'],names=['is spam','text'],encoding='latin1')\n",
    "data = data.iloc[1:,:]\n",
    "data['is spam'] = data['is spam'].map({'spam':1,'ham':0})\n",
    "data.head()"
   ]
  },
  {
   "cell_type": "code",
   "execution_count": 3,
   "metadata": {},
   "outputs": [
    {
     "data": {
      "text/html": [
       "<div>\n",
       "<style scoped>\n",
       "    .dataframe tbody tr th:only-of-type {\n",
       "        vertical-align: middle;\n",
       "    }\n",
       "\n",
       "    .dataframe tbody tr th {\n",
       "        vertical-align: top;\n",
       "    }\n",
       "\n",
       "    .dataframe thead th {\n",
       "        text-align: right;\n",
       "    }\n",
       "</style>\n",
       "<table border=\"1\" class=\"dataframe\">\n",
       "  <thead>\n",
       "    <tr style=\"text-align: right;\">\n",
       "      <th></th>\n",
       "      <th>is spam</th>\n",
       "      <th>text</th>\n",
       "      <th>percentage digits</th>\n",
       "    </tr>\n",
       "  </thead>\n",
       "  <tbody>\n",
       "    <tr>\n",
       "      <th>1</th>\n",
       "      <td>0</td>\n",
       "      <td>Go until jurong point, crazy.. Available only ...</td>\n",
       "      <td>0.000000</td>\n",
       "    </tr>\n",
       "    <tr>\n",
       "      <th>2</th>\n",
       "      <td>0</td>\n",
       "      <td>Ok lar... Joking wif u oni...</td>\n",
       "      <td>0.000000</td>\n",
       "    </tr>\n",
       "    <tr>\n",
       "      <th>3</th>\n",
       "      <td>1</td>\n",
       "      <td>Free entry in 2 a wkly comp to win FA Cup fina...</td>\n",
       "      <td>16.129032</td>\n",
       "    </tr>\n",
       "    <tr>\n",
       "      <th>4</th>\n",
       "      <td>0</td>\n",
       "      <td>U dun say so early hor... U c already then say...</td>\n",
       "      <td>0.000000</td>\n",
       "    </tr>\n",
       "    <tr>\n",
       "      <th>5</th>\n",
       "      <td>0</td>\n",
       "      <td>Nah I don't think he goes to usf, he lives aro...</td>\n",
       "      <td>0.000000</td>\n",
       "    </tr>\n",
       "  </tbody>\n",
       "</table>\n",
       "</div>"
      ],
      "text/plain": [
       "   is spam                                               text  \\\n",
       "1        0  Go until jurong point, crazy.. Available only ...   \n",
       "2        0                      Ok lar... Joking wif u oni...   \n",
       "3        1  Free entry in 2 a wkly comp to win FA Cup fina...   \n",
       "4        0  U dun say so early hor... U c already then say...   \n",
       "5        0  Nah I don't think he goes to usf, he lives aro...   \n",
       "\n",
       "   percentage digits  \n",
       "1           0.000000  \n",
       "2           0.000000  \n",
       "3          16.129032  \n",
       "4           0.000000  \n",
       "5           0.000000  "
      ]
     },
     "execution_count": 3,
     "metadata": {},
     "output_type": "execute_result"
    }
   ],
   "source": [
    "def percentage_digits(text):\n",
    "    counter = 0\n",
    "    for i in text:\n",
    "        if i.isdigit():\n",
    "            counter += 1\n",
    "    return (counter / len(text)) * 100\n",
    "\n",
    "data['percentage digits'] = data['text'].apply(percentage_digits)\n",
    "data.head()"
   ]
  },
  {
   "cell_type": "code",
   "execution_count": 4,
   "metadata": {},
   "outputs": [
    {
     "data": {
      "text/html": [
       "<div>\n",
       "<style scoped>\n",
       "    .dataframe tbody tr th:only-of-type {\n",
       "        vertical-align: middle;\n",
       "    }\n",
       "\n",
       "    .dataframe tbody tr th {\n",
       "        vertical-align: top;\n",
       "    }\n",
       "\n",
       "    .dataframe thead th {\n",
       "        text-align: right;\n",
       "    }\n",
       "</style>\n",
       "<table border=\"1\" class=\"dataframe\">\n",
       "  <thead>\n",
       "    <tr style=\"text-align: right;\">\n",
       "      <th></th>\n",
       "      <th>is spam</th>\n",
       "      <th>text</th>\n",
       "      <th>percentage digits</th>\n",
       "      <th>percentage question mark</th>\n",
       "    </tr>\n",
       "  </thead>\n",
       "  <tbody>\n",
       "    <tr>\n",
       "      <th>1</th>\n",
       "      <td>0</td>\n",
       "      <td>Go until jurong point, crazy.. Available only ...</td>\n",
       "      <td>0.000000</td>\n",
       "      <td>0.0</td>\n",
       "    </tr>\n",
       "    <tr>\n",
       "      <th>2</th>\n",
       "      <td>0</td>\n",
       "      <td>Ok lar... Joking wif u oni...</td>\n",
       "      <td>0.000000</td>\n",
       "      <td>0.0</td>\n",
       "    </tr>\n",
       "    <tr>\n",
       "      <th>3</th>\n",
       "      <td>1</td>\n",
       "      <td>Free entry in 2 a wkly comp to win FA Cup fina...</td>\n",
       "      <td>16.129032</td>\n",
       "      <td>0.0</td>\n",
       "    </tr>\n",
       "    <tr>\n",
       "      <th>4</th>\n",
       "      <td>0</td>\n",
       "      <td>U dun say so early hor... U c already then say...</td>\n",
       "      <td>0.000000</td>\n",
       "      <td>0.0</td>\n",
       "    </tr>\n",
       "    <tr>\n",
       "      <th>5</th>\n",
       "      <td>0</td>\n",
       "      <td>Nah I don't think he goes to usf, he lives aro...</td>\n",
       "      <td>0.000000</td>\n",
       "      <td>0.0</td>\n",
       "    </tr>\n",
       "  </tbody>\n",
       "</table>\n",
       "</div>"
      ],
      "text/plain": [
       "   is spam                                               text  \\\n",
       "1        0  Go until jurong point, crazy.. Available only ...   \n",
       "2        0                      Ok lar... Joking wif u oni...   \n",
       "3        1  Free entry in 2 a wkly comp to win FA Cup fina...   \n",
       "4        0  U dun say so early hor... U c already then say...   \n",
       "5        0  Nah I don't think he goes to usf, he lives aro...   \n",
       "\n",
       "   percentage digits  percentage question mark  \n",
       "1           0.000000                       0.0  \n",
       "2           0.000000                       0.0  \n",
       "3          16.129032                       0.0  \n",
       "4           0.000000                       0.0  \n",
       "5           0.000000                       0.0  "
      ]
     },
     "execution_count": 4,
     "metadata": {},
     "output_type": "execute_result"
    }
   ],
   "source": [
    "def percentage_question_mark(text):\n",
    "    counter = 0\n",
    "    for i in text:\n",
    "        if i == '?':\n",
    "            counter += 1\n",
    "    return (counter / len(text)) * 100\n",
    "\n",
    "data['percentage question mark'] = data['text'].apply(percentage_question_mark)\n",
    "data.head()"
   ]
  },
  {
   "cell_type": "code",
   "execution_count": 5,
   "metadata": {},
   "outputs": [
    {
     "data": {
      "text/html": [
       "<div>\n",
       "<style scoped>\n",
       "    .dataframe tbody tr th:only-of-type {\n",
       "        vertical-align: middle;\n",
       "    }\n",
       "\n",
       "    .dataframe tbody tr th {\n",
       "        vertical-align: top;\n",
       "    }\n",
       "\n",
       "    .dataframe thead th {\n",
       "        text-align: right;\n",
       "    }\n",
       "</style>\n",
       "<table border=\"1\" class=\"dataframe\">\n",
       "  <thead>\n",
       "    <tr style=\"text-align: right;\">\n",
       "      <th></th>\n",
       "      <th>is spam</th>\n",
       "      <th>text</th>\n",
       "      <th>percentage digits</th>\n",
       "      <th>percentage question mark</th>\n",
       "      <th>percentage exclamation mark</th>\n",
       "    </tr>\n",
       "  </thead>\n",
       "  <tbody>\n",
       "    <tr>\n",
       "      <th>1</th>\n",
       "      <td>0</td>\n",
       "      <td>Go until jurong point, crazy.. Available only ...</td>\n",
       "      <td>0.000000</td>\n",
       "      <td>0.0</td>\n",
       "      <td>0.0</td>\n",
       "    </tr>\n",
       "    <tr>\n",
       "      <th>2</th>\n",
       "      <td>0</td>\n",
       "      <td>Ok lar... Joking wif u oni...</td>\n",
       "      <td>0.000000</td>\n",
       "      <td>0.0</td>\n",
       "      <td>0.0</td>\n",
       "    </tr>\n",
       "    <tr>\n",
       "      <th>3</th>\n",
       "      <td>1</td>\n",
       "      <td>Free entry in 2 a wkly comp to win FA Cup fina...</td>\n",
       "      <td>16.129032</td>\n",
       "      <td>0.0</td>\n",
       "      <td>0.0</td>\n",
       "    </tr>\n",
       "    <tr>\n",
       "      <th>4</th>\n",
       "      <td>0</td>\n",
       "      <td>U dun say so early hor... U c already then say...</td>\n",
       "      <td>0.000000</td>\n",
       "      <td>0.0</td>\n",
       "      <td>0.0</td>\n",
       "    </tr>\n",
       "    <tr>\n",
       "      <th>5</th>\n",
       "      <td>0</td>\n",
       "      <td>Nah I don't think he goes to usf, he lives aro...</td>\n",
       "      <td>0.000000</td>\n",
       "      <td>0.0</td>\n",
       "      <td>0.0</td>\n",
       "    </tr>\n",
       "  </tbody>\n",
       "</table>\n",
       "</div>"
      ],
      "text/plain": [
       "   is spam                                               text  \\\n",
       "1        0  Go until jurong point, crazy.. Available only ...   \n",
       "2        0                      Ok lar... Joking wif u oni...   \n",
       "3        1  Free entry in 2 a wkly comp to win FA Cup fina...   \n",
       "4        0  U dun say so early hor... U c already then say...   \n",
       "5        0  Nah I don't think he goes to usf, he lives aro...   \n",
       "\n",
       "   percentage digits  percentage question mark  percentage exclamation mark  \n",
       "1           0.000000                       0.0                          0.0  \n",
       "2           0.000000                       0.0                          0.0  \n",
       "3          16.129032                       0.0                          0.0  \n",
       "4           0.000000                       0.0                          0.0  \n",
       "5           0.000000                       0.0                          0.0  "
      ]
     },
     "execution_count": 5,
     "metadata": {},
     "output_type": "execute_result"
    }
   ],
   "source": [
    "def percentage_exclamation_mark(text):\n",
    "    counter = 0\n",
    "    for i in text:\n",
    "        if i == '!':\n",
    "            counter += 1\n",
    "    return (counter / len(text)) * 100\n",
    "\n",
    "data['percentage exclamation mark'] = data['text'].apply(percentage_exclamation_mark)\n",
    "data.head()"
   ]
  },
  {
   "cell_type": "code",
   "execution_count": 6,
   "metadata": {},
   "outputs": [
    {
     "data": {
      "text/html": [
       "<div>\n",
       "<style scoped>\n",
       "    .dataframe tbody tr th:only-of-type {\n",
       "        vertical-align: middle;\n",
       "    }\n",
       "\n",
       "    .dataframe tbody tr th {\n",
       "        vertical-align: top;\n",
       "    }\n",
       "\n",
       "    .dataframe thead th {\n",
       "        text-align: right;\n",
       "    }\n",
       "</style>\n",
       "<table border=\"1\" class=\"dataframe\">\n",
       "  <thead>\n",
       "    <tr style=\"text-align: right;\">\n",
       "      <th></th>\n",
       "      <th>is spam</th>\n",
       "      <th>text</th>\n",
       "      <th>percentage digits</th>\n",
       "      <th>percentage question mark</th>\n",
       "      <th>percentage exclamation mark</th>\n",
       "      <th>percentage caps</th>\n",
       "    </tr>\n",
       "  </thead>\n",
       "  <tbody>\n",
       "    <tr>\n",
       "      <th>1</th>\n",
       "      <td>0</td>\n",
       "      <td>Go until jurong point, crazy.. Available only ...</td>\n",
       "      <td>0.000000</td>\n",
       "      <td>0.0</td>\n",
       "      <td>0.0</td>\n",
       "      <td>2.702703</td>\n",
       "    </tr>\n",
       "    <tr>\n",
       "      <th>2</th>\n",
       "      <td>0</td>\n",
       "      <td>Ok lar... Joking wif u oni...</td>\n",
       "      <td>0.000000</td>\n",
       "      <td>0.0</td>\n",
       "      <td>0.0</td>\n",
       "      <td>6.896552</td>\n",
       "    </tr>\n",
       "    <tr>\n",
       "      <th>3</th>\n",
       "      <td>1</td>\n",
       "      <td>Free entry in 2 a wkly comp to win FA Cup fina...</td>\n",
       "      <td>16.129032</td>\n",
       "      <td>0.0</td>\n",
       "      <td>0.0</td>\n",
       "      <td>6.451613</td>\n",
       "    </tr>\n",
       "    <tr>\n",
       "      <th>4</th>\n",
       "      <td>0</td>\n",
       "      <td>U dun say so early hor... U c already then say...</td>\n",
       "      <td>0.000000</td>\n",
       "      <td>0.0</td>\n",
       "      <td>0.0</td>\n",
       "      <td>4.081633</td>\n",
       "    </tr>\n",
       "    <tr>\n",
       "      <th>5</th>\n",
       "      <td>0</td>\n",
       "      <td>Nah I don't think he goes to usf, he lives aro...</td>\n",
       "      <td>0.000000</td>\n",
       "      <td>0.0</td>\n",
       "      <td>0.0</td>\n",
       "      <td>3.278689</td>\n",
       "    </tr>\n",
       "  </tbody>\n",
       "</table>\n",
       "</div>"
      ],
      "text/plain": [
       "   is spam                                               text  \\\n",
       "1        0  Go until jurong point, crazy.. Available only ...   \n",
       "2        0                      Ok lar... Joking wif u oni...   \n",
       "3        1  Free entry in 2 a wkly comp to win FA Cup fina...   \n",
       "4        0  U dun say so early hor... U c already then say...   \n",
       "5        0  Nah I don't think he goes to usf, he lives aro...   \n",
       "\n",
       "   percentage digits  percentage question mark  percentage exclamation mark  \\\n",
       "1           0.000000                       0.0                          0.0   \n",
       "2           0.000000                       0.0                          0.0   \n",
       "3          16.129032                       0.0                          0.0   \n",
       "4           0.000000                       0.0                          0.0   \n",
       "5           0.000000                       0.0                          0.0   \n",
       "\n",
       "   percentage caps  \n",
       "1         2.702703  \n",
       "2         6.896552  \n",
       "3         6.451613  \n",
       "4         4.081633  \n",
       "5         3.278689  "
      ]
     },
     "execution_count": 6,
     "metadata": {},
     "output_type": "execute_result"
    }
   ],
   "source": [
    "def percentage_caps(text):\n",
    "    counter = 0\n",
    "    for i in text:\n",
    "        if i.isupper():\n",
    "            counter += 1\n",
    "    return (counter / len(text)) * 100\n",
    "\n",
    "data['percentage caps'] = data['text'].apply(percentage_caps)\n",
    "data.head()"
   ]
  },
  {
   "cell_type": "code",
   "execution_count": 7,
   "metadata": {},
   "outputs": [
    {
     "data": {
      "text/html": [
       "<div>\n",
       "<style scoped>\n",
       "    .dataframe tbody tr th:only-of-type {\n",
       "        vertical-align: middle;\n",
       "    }\n",
       "\n",
       "    .dataframe tbody tr th {\n",
       "        vertical-align: top;\n",
       "    }\n",
       "\n",
       "    .dataframe thead th {\n",
       "        text-align: right;\n",
       "    }\n",
       "</style>\n",
       "<table border=\"1\" class=\"dataframe\">\n",
       "  <thead>\n",
       "    <tr style=\"text-align: right;\">\n",
       "      <th></th>\n",
       "      <th>is spam</th>\n",
       "      <th>text</th>\n",
       "      <th>percentage digits</th>\n",
       "      <th>percentage question mark</th>\n",
       "      <th>percentage exclamation mark</th>\n",
       "      <th>percentage caps</th>\n",
       "      <th>length</th>\n",
       "    </tr>\n",
       "  </thead>\n",
       "  <tbody>\n",
       "    <tr>\n",
       "      <th>1</th>\n",
       "      <td>0</td>\n",
       "      <td>Go until jurong point, crazy.. Available only ...</td>\n",
       "      <td>0.000000</td>\n",
       "      <td>0.0</td>\n",
       "      <td>0.0</td>\n",
       "      <td>2.702703</td>\n",
       "      <td>111</td>\n",
       "    </tr>\n",
       "    <tr>\n",
       "      <th>2</th>\n",
       "      <td>0</td>\n",
       "      <td>Ok lar... Joking wif u oni...</td>\n",
       "      <td>0.000000</td>\n",
       "      <td>0.0</td>\n",
       "      <td>0.0</td>\n",
       "      <td>6.896552</td>\n",
       "      <td>29</td>\n",
       "    </tr>\n",
       "    <tr>\n",
       "      <th>3</th>\n",
       "      <td>1</td>\n",
       "      <td>Free entry in 2 a wkly comp to win FA Cup fina...</td>\n",
       "      <td>16.129032</td>\n",
       "      <td>0.0</td>\n",
       "      <td>0.0</td>\n",
       "      <td>6.451613</td>\n",
       "      <td>155</td>\n",
       "    </tr>\n",
       "    <tr>\n",
       "      <th>4</th>\n",
       "      <td>0</td>\n",
       "      <td>U dun say so early hor... U c already then say...</td>\n",
       "      <td>0.000000</td>\n",
       "      <td>0.0</td>\n",
       "      <td>0.0</td>\n",
       "      <td>4.081633</td>\n",
       "      <td>49</td>\n",
       "    </tr>\n",
       "    <tr>\n",
       "      <th>5</th>\n",
       "      <td>0</td>\n",
       "      <td>Nah I don't think he goes to usf, he lives aro...</td>\n",
       "      <td>0.000000</td>\n",
       "      <td>0.0</td>\n",
       "      <td>0.0</td>\n",
       "      <td>3.278689</td>\n",
       "      <td>61</td>\n",
       "    </tr>\n",
       "  </tbody>\n",
       "</table>\n",
       "</div>"
      ],
      "text/plain": [
       "   is spam                                               text  \\\n",
       "1        0  Go until jurong point, crazy.. Available only ...   \n",
       "2        0                      Ok lar... Joking wif u oni...   \n",
       "3        1  Free entry in 2 a wkly comp to win FA Cup fina...   \n",
       "4        0  U dun say so early hor... U c already then say...   \n",
       "5        0  Nah I don't think he goes to usf, he lives aro...   \n",
       "\n",
       "   percentage digits  percentage question mark  percentage exclamation mark  \\\n",
       "1           0.000000                       0.0                          0.0   \n",
       "2           0.000000                       0.0                          0.0   \n",
       "3          16.129032                       0.0                          0.0   \n",
       "4           0.000000                       0.0                          0.0   \n",
       "5           0.000000                       0.0                          0.0   \n",
       "\n",
       "   percentage caps  length  \n",
       "1         2.702703     111  \n",
       "2         6.896552      29  \n",
       "3         6.451613     155  \n",
       "4         4.081633      49  \n",
       "5         3.278689      61  "
      ]
     },
     "execution_count": 7,
     "metadata": {},
     "output_type": "execute_result"
    }
   ],
   "source": [
    "data['length'] = data['text'].apply(len)\n",
    "data.head()"
   ]
  },
  {
   "cell_type": "code",
   "execution_count": 8,
   "metadata": {},
   "outputs": [
    {
     "data": {
      "text/plain": [
       "'#I found this on the net :)\\nfrom keras.preprocessing.text import Tokenizer\\nclass TextEncoder:\\n    def __init__(self):\\n        self.tokenizer = Tokenizer()\\n    \\n    def fit(self, texts):\\n        self.tokenizer.fit_on_texts(texts)\\n    \\n    def transform(self, texts):\\n        return self.tokenizer.texts_to_matrix(texts)\\n    \\n    def fit_transform(self, texts):\\n        self.fit(texts)\\n        return self.transform(texts)\\n    \\n    def dim(self):\\n        return len(self.tokenizer.word_index) + 1'"
      ]
     },
     "execution_count": 8,
     "metadata": {},
     "output_type": "execute_result"
    }
   ],
   "source": [
    "'''#I found this on the net :)\n",
    "from keras.preprocessing.text import Tokenizer\n",
    "class TextEncoder:\n",
    "    def __init__(self):\n",
    "        self.tokenizer = Tokenizer()\n",
    "    \n",
    "    def fit(self, texts):\n",
    "        self.tokenizer.fit_on_texts(texts)\n",
    "    \n",
    "    def transform(self, texts):\n",
    "        return self.tokenizer.texts_to_matrix(texts)\n",
    "    \n",
    "    def fit_transform(self, texts):\n",
    "        self.fit(texts)\n",
    "        return self.transform(texts)\n",
    "    \n",
    "    def dim(self):\n",
    "        return len(self.tokenizer.word_index) + 1'''\n"
   ]
  },
  {
   "cell_type": "code",
   "execution_count": 9,
   "metadata": {},
   "outputs": [],
   "source": [
    "def isalpha(word):\n",
    "    wrod = word.replace('.', '')\n",
    "    return word.isalpha()\n",
    "\n",
    "def clean_sms(text):\n",
    "    text = text.lower()\n",
    "    return (' '.join(filter(lambda x: isalpha(x) and x not in stopwords.words(\"english\"), text.split()))).replace('.', '').split()"
   ]
  },
  {
   "cell_type": "code",
   "execution_count": 10,
   "metadata": {},
   "outputs": [
    {
     "data": {
      "text/html": [
       "<div>\n",
       "<style scoped>\n",
       "    .dataframe tbody tr th:only-of-type {\n",
       "        vertical-align: middle;\n",
       "    }\n",
       "\n",
       "    .dataframe tbody tr th {\n",
       "        vertical-align: top;\n",
       "    }\n",
       "\n",
       "    .dataframe thead th {\n",
       "        text-align: right;\n",
       "    }\n",
       "</style>\n",
       "<table border=\"1\" class=\"dataframe\">\n",
       "  <thead>\n",
       "    <tr style=\"text-align: right;\">\n",
       "      <th></th>\n",
       "      <th>is spam</th>\n",
       "      <th>text</th>\n",
       "      <th>percentage digits</th>\n",
       "      <th>percentage question mark</th>\n",
       "      <th>percentage exclamation mark</th>\n",
       "      <th>percentage caps</th>\n",
       "      <th>length</th>\n",
       "      <th>abiola</th>\n",
       "      <th>able</th>\n",
       "      <th>abt</th>\n",
       "      <th>...</th>\n",
       "      <th>yet</th>\n",
       "      <th>ym</th>\n",
       "      <th>yo</th>\n",
       "      <th>yoga</th>\n",
       "      <th>yr</th>\n",
       "      <th>yrs</th>\n",
       "      <th>yun</th>\n",
       "      <th>yup</th>\n",
       "      <th>zed</th>\n",
       "      <th>ìï</th>\n",
       "    </tr>\n",
       "  </thead>\n",
       "  <tbody>\n",
       "    <tr>\n",
       "      <th>1</th>\n",
       "      <td>0</td>\n",
       "      <td>Go until jurong point, crazy.. Available only ...</td>\n",
       "      <td>0.0</td>\n",
       "      <td>0.0</td>\n",
       "      <td>0.0</td>\n",
       "      <td>2.702703</td>\n",
       "      <td>111</td>\n",
       "      <td>0</td>\n",
       "      <td>0</td>\n",
       "      <td>0</td>\n",
       "      <td>...</td>\n",
       "      <td>0</td>\n",
       "      <td>0</td>\n",
       "      <td>0</td>\n",
       "      <td>0</td>\n",
       "      <td>0</td>\n",
       "      <td>0</td>\n",
       "      <td>0</td>\n",
       "      <td>0</td>\n",
       "      <td>0</td>\n",
       "      <td>0</td>\n",
       "    </tr>\n",
       "    <tr>\n",
       "      <th>2</th>\n",
       "      <td>0</td>\n",
       "      <td>Ok lar... Joking wif u oni...</td>\n",
       "      <td>0.0</td>\n",
       "      <td>0.0</td>\n",
       "      <td>0.0</td>\n",
       "      <td>6.896552</td>\n",
       "      <td>29</td>\n",
       "      <td>0</td>\n",
       "      <td>0</td>\n",
       "      <td>0</td>\n",
       "      <td>...</td>\n",
       "      <td>0</td>\n",
       "      <td>0</td>\n",
       "      <td>0</td>\n",
       "      <td>0</td>\n",
       "      <td>0</td>\n",
       "      <td>0</td>\n",
       "      <td>0</td>\n",
       "      <td>0</td>\n",
       "      <td>0</td>\n",
       "      <td>0</td>\n",
       "    </tr>\n",
       "  </tbody>\n",
       "</table>\n",
       "<p>2 rows × 1290 columns</p>\n",
       "</div>"
      ],
      "text/plain": [
       "   is spam                                               text  \\\n",
       "1        0  Go until jurong point, crazy.. Available only ...   \n",
       "2        0                      Ok lar... Joking wif u oni...   \n",
       "\n",
       "   percentage digits  percentage question mark  percentage exclamation mark  \\\n",
       "1                0.0                       0.0                          0.0   \n",
       "2                0.0                       0.0                          0.0   \n",
       "\n",
       "   percentage caps  length  abiola  able  abt ...  yet  ym  yo  yoga  yr  yrs  \\\n",
       "1         2.702703     111       0     0    0 ...    0   0   0     0   0    0   \n",
       "2         6.896552      29       0     0    0 ...    0   0   0     0   0    0   \n",
       "\n",
       "   yun  yup  zed  ìï  \n",
       "1    0    0    0   0  \n",
       "2    0    0    0   0  \n",
       "\n",
       "[2 rows x 1290 columns]"
      ]
     },
     "execution_count": 10,
     "metadata": {},
     "output_type": "execute_result"
    }
   ],
   "source": [
    "from sklearn.feature_extraction.text import CountVectorizer\n",
    "from nltk.corpus import stopwords\n",
    "cv = CountVectorizer(strip_accents='ascii', min_df=5, analyzer=clean_sms)\n",
    "data = pd.concat([data, pd.DataFrame(cv.fit_transform(data['text']).todense(), columns=cv.get_feature_names(), index=numpy.arange(1, cv.fit_transform(data['text']).todense().shape[0] + 1))], axis=1)\n",
    "data.head(2)"
   ]
  },
  {
   "cell_type": "code",
   "execution_count": 11,
   "metadata": {},
   "outputs": [],
   "source": [
    "y = data['is spam']\n",
    "data = data.drop('is spam',axis=1)\n",
    "data = data.drop('text',axis=1)\n",
    "X = data"
   ]
  },
  {
   "cell_type": "code",
   "execution_count": 12,
   "metadata": {},
   "outputs": [
    {
     "name": "stdout",
     "output_type": "stream",
     "text": [
      "(5572, 1287) (5572,)\n"
     ]
    }
   ],
   "source": [
    "print(X.shape,y.shape)"
   ]
  },
  {
   "cell_type": "code",
   "execution_count": 13,
   "metadata": {},
   "outputs": [],
   "source": [
    "from sklearn.model_selection import train_test_split\n",
    "x_train,x_test,y_train,y_test = train_test_split(X,y,test_size=0.2, random_state=42)\n"
   ]
  },
  {
   "cell_type": "markdown",
   "metadata": {},
   "source": [
    "# MODELS"
   ]
  },
  {
   "cell_type": "code",
   "execution_count": 14,
   "metadata": {},
   "outputs": [],
   "source": [
    "from sklearn.linear_model import LogisticRegression\n",
    "clf = LogisticRegression()\n",
    "clf = clf.fit(x_train, y_train)"
   ]
  },
  {
   "cell_type": "code",
   "execution_count": 15,
   "metadata": {},
   "outputs": [],
   "source": [
    "from sklearn.svm import SVC\n",
    "clf1  = SVC(kernel='rbf',gamma=0.005,degree=5)\n",
    "clf1 = clf1.fit(x_train, y_train)"
   ]
  },
  {
   "cell_type": "code",
   "execution_count": 208,
   "metadata": {},
   "outputs": [
    {
     "name": "stdout",
     "output_type": "stream",
     "text": [
      "Train on 3565 samples, validate on 892 samples\n",
      "Epoch 1/11\n",
      " - 5s - loss: 0.6748 - acc: 0.8093 - val_loss: 0.6429 - val_acc: 0.9574\n",
      "Epoch 2/11\n",
      " - 1s - loss: 0.6007 - acc: 0.9700 - val_loss: 0.5537 - val_acc: 0.9641\n",
      "Epoch 3/11\n",
      " - 1s - loss: 0.5229 - acc: 0.9703 - val_loss: 0.4969 - val_acc: 0.9697\n",
      "Epoch 4/11\n",
      " - 1s - loss: 0.4705 - acc: 0.9832 - val_loss: 0.4503 - val_acc: 0.9753\n",
      "Epoch 5/11\n",
      " - 1s - loss: 0.4299 - acc: 0.9837 - val_loss: 0.4142 - val_acc: 0.9776\n",
      "Epoch 6/11\n",
      " - 1s - loss: 0.3918 - acc: 0.9879 - val_loss: 0.3791 - val_acc: 0.9821\n",
      "Epoch 7/11\n",
      " - 1s - loss: 0.3595 - acc: 0.9891 - val_loss: 0.3589 - val_acc: 0.9709\n",
      "Epoch 8/11\n",
      " - 1s - loss: 0.3304 - acc: 0.9921 - val_loss: 0.3329 - val_acc: 0.9765\n",
      "Epoch 9/11\n",
      " - 1s - loss: 0.3050 - acc: 0.9913 - val_loss: 0.3038 - val_acc: 0.9809\n",
      "Epoch 10/11\n",
      " - 1s - loss: 0.2810 - acc: 0.9935 - val_loss: 0.2822 - val_acc: 0.9787\n",
      "Epoch 11/11\n",
      " - 1s - loss: 0.2607 - acc: 0.9935 - val_loss: 0.2636 - val_acc: 0.9821\n"
     ]
    },
    {
     "data": {
      "text/plain": [
       "<keras.callbacks.History at 0x1a8ce43ceb8>"
      ]
     },
     "execution_count": 208,
     "metadata": {},
     "output_type": "execute_result"
    }
   ],
   "source": [
    "#models\n",
    "'''without using any features i got an f1_score of 0.92 using these models'''\n",
    "#USED\n",
    "model1 = Sequential()\n",
    "model1.add(Dense(10,input_dim=1287))\n",
    "model1.add(Dense(8,activation='relu'))\n",
    "#model1.add(Dropout(0.05))\n",
    "model1.add(Dense(6,activation='relu'))\n",
    "model1.add(Dropout(0.01))\n",
    "model1.add(Dense(4,activation='relu'))\n",
    "#model1.add(Dropout(0.01))\n",
    "model1.add(Dense(2,activation='relu'))\n",
    "model1.add(Dense(1,activation='sigmoid'))\n",
    "\n",
    "\n",
    "model1.compile(optimizer='adam', loss='binary_crossentropy', metrics=['accuracy'])\n",
    "model1.fit(x_train, y_train, shuffle=True, validation_split=.2, epochs=11, batch_size=30,verbose=2)\n",
    "#overfitting after epoch 8 so keep 7\n",
    "#accuracy: 98.09\n"
   ]
  },
  {
   "cell_type": "code",
   "execution_count": 144,
   "metadata": {},
   "outputs": [
    {
     "name": "stdout",
     "output_type": "stream",
     "text": [
      "Train on 3565 samples, validate on 892 samples\n",
      "Epoch 1/10\n",
      " - 3s - loss: 0.4576 - acc: 0.8670 - val_loss: 0.3529 - val_acc: 0.8621\n",
      "Epoch 2/10\n",
      " - 1s - loss: 0.2821 - acc: 0.8945 - val_loss: 0.2036 - val_acc: 0.9641\n",
      "Epoch 3/10\n",
      " - 1s - loss: 0.1696 - acc: 0.9590 - val_loss: 0.1225 - val_acc: 0.9720\n",
      "Epoch 4/10\n",
      " - 1s - loss: 0.1166 - acc: 0.9672 - val_loss: 0.0967 - val_acc: 0.9753\n",
      "Epoch 5/10\n",
      " - 1s - loss: 0.1017 - acc: 0.9689 - val_loss: 0.0895 - val_acc: 0.9753\n",
      "Epoch 6/10\n",
      " - 1s - loss: 0.0817 - acc: 0.9753 - val_loss: 0.0914 - val_acc: 0.9776\n",
      "Epoch 7/10\n",
      " - 1s - loss: 0.0814 - acc: 0.9762 - val_loss: 0.0897 - val_acc: 0.9753\n",
      "Epoch 8/10\n",
      " - 1s - loss: 0.0758 - acc: 0.9781 - val_loss: 0.1014 - val_acc: 0.9753\n",
      "Epoch 9/10\n",
      " - 1s - loss: 0.0734 - acc: 0.9784 - val_loss: 0.1010 - val_acc: 0.9765\n",
      "Epoch 10/10\n",
      " - 1s - loss: 0.0693 - acc: 0.9778 - val_loss: 0.0913 - val_acc: 0.9753\n"
     ]
    },
    {
     "data": {
      "text/plain": [
       "<keras.callbacks.History at 0x1a88b4280b8>"
      ]
     },
     "execution_count": 144,
     "metadata": {},
     "output_type": "execute_result"
    }
   ],
   "source": [
    "#NOT USED\n",
    "model2 = Sequential()\n",
    "model2.add(Dense(6,input_dim=1287))\n",
    "model2.add(Dense(5,activation='relu'))\n",
    "model2.add(Dropout(0.01))\n",
    "model2.add(Dense(4,activation='relu'))\n",
    "model2.add(Dense(3,activation='relu'))\n",
    "model2.add(Dropout(0.01))\n",
    "model2.add(Dense(2,activation='relu'))\n",
    "model2.add(Dense(1,activation='sigmoid'))\n",
    "\n",
    "model2.compile(optimizer='rmsprop', loss='binary_crossentropy', metrics=['accuracy'])\n",
    "model2.fit(x_train, y_train, shuffle=True, validation_split=.2, epochs=10, batch_size=30,verbose=2)"
   ]
  },
  {
   "cell_type": "code",
   "execution_count": 19,
   "metadata": {},
   "outputs": [
    {
     "name": "stdout",
     "output_type": "stream",
     "text": [
      "Train on 3565 samples, validate on 892 samples\n",
      "Epoch 1/10\n",
      " - 1s - loss: 0.9093 - acc: 0.7604 - val_loss: 0.3981 - val_acc: 0.9036\n",
      "Epoch 2/10\n",
      " - 1s - loss: 0.3974 - acc: 0.9111 - val_loss: 0.3072 - val_acc: 0.9473\n",
      "Epoch 3/10\n",
      " - 0s - loss: 0.3305 - acc: 0.9243 - val_loss: 0.2660 - val_acc: 0.9608\n",
      "Epoch 4/10\n",
      " - 0s - loss: 0.2853 - acc: 0.9391 - val_loss: 0.2189 - val_acc: 0.9563\n",
      "Epoch 5/10\n",
      " - 0s - loss: 0.2685 - acc: 0.9467 - val_loss: 0.1960 - val_acc: 0.9641\n",
      "Epoch 6/10\n",
      " - 1s - loss: 0.2428 - acc: 0.9529 - val_loss: 0.1779 - val_acc: 0.9608\n",
      "Epoch 7/10\n",
      " - 0s - loss: 0.2169 - acc: 0.9512 - val_loss: 0.1607 - val_acc: 0.9652\n",
      "Epoch 8/10\n",
      " - 1s - loss: 0.1959 - acc: 0.9588 - val_loss: 0.1474 - val_acc: 0.9686\n",
      "Epoch 9/10\n",
      " - 1s - loss: 0.1796 - acc: 0.9551 - val_loss: 0.1390 - val_acc: 0.9675\n",
      "Epoch 10/10\n",
      " - 0s - loss: 0.1679 - acc: 0.9602 - val_loss: 0.1284 - val_acc: 0.9742\n"
     ]
    },
    {
     "data": {
      "text/plain": [
       "<keras.callbacks.History at 0x1a8567d50b8>"
      ]
     },
     "execution_count": 19,
     "metadata": {},
     "output_type": "execute_result"
    }
   ],
   "source": [
    "#NOT USED\n",
    "model3 = Sequential()\n",
    "model3.add(Dense(2,input_dim=1287))\n",
    "model3.add(Dropout(0.4))\n",
    "model3.add(Dense(1,activation='sigmoid'))\n",
    "\n",
    "model3.compile(optimizer='adam', loss='binary_crossentropy', metrics=['accuracy'])\n",
    "model3.fit(x_train, y_train, shuffle=True, validation_split=.2, epochs=10, batch_size=30,verbose=2)"
   ]
  },
  {
   "cell_type": "code",
   "execution_count": 40,
   "metadata": {},
   "outputs": [
    {
     "name": "stdout",
     "output_type": "stream",
     "text": [
      "Train on 3565 samples, validate on 892 samples\n",
      "Epoch 1/6\n",
      " - 1s - loss: 0.6756 - acc: 0.8662 - val_loss: 0.6586 - val_acc: 0.8621\n",
      "Epoch 2/6\n",
      " - 0s - loss: 0.6421 - acc: 0.8670 - val_loss: 0.6273 - val_acc: 0.8621\n",
      "Epoch 3/6\n",
      " - 0s - loss: 0.6119 - acc: 0.8670 - val_loss: 0.5993 - val_acc: 0.8621\n",
      "Epoch 4/6\n",
      " - 0s - loss: 0.5851 - acc: 0.8670 - val_loss: 0.5742 - val_acc: 0.8621\n",
      "Epoch 5/6\n",
      " - 1s - loss: 0.5612 - acc: 0.8670 - val_loss: 0.5521 - val_acc: 0.8621\n",
      "Epoch 6/6\n",
      " - 0s - loss: 0.5399 - acc: 0.8670 - val_loss: 0.5326 - val_acc: 0.8621\n"
     ]
    },
    {
     "data": {
      "text/plain": [
       "<keras.callbacks.History at 0x1a858d36860>"
      ]
     },
     "execution_count": 40,
     "metadata": {},
     "output_type": "execute_result"
    }
   ],
   "source": [
    "#NOT USED\n",
    "model4 = Sequential()\n",
    "model4.add(Dense(2,input_dim=1287))\n",
    "model4.add(Dense(2,activation='relu'))\n",
    "model4.add(Dropout(0.4))\n",
    "model4.add(Dense(1,activation='sigmoid'))\n",
    "\n",
    "model4.compile(optimizer='adam', loss='binary_crossentropy', metrics=['accuracy'])\n",
    "model4.fit(x_train, y_train, shuffle=True, validation_split=.2, epochs=6, batch_size=35,verbose=2)"
   ]
  },
  {
   "cell_type": "code",
   "execution_count": 173,
   "metadata": {},
   "outputs": [
    {
     "name": "stdout",
     "output_type": "stream",
     "text": [
      "Train on 3565 samples, validate on 892 samples\n",
      "Epoch 1/10\n",
      " - 4s - loss: 0.6971 - acc: 0.8160 - val_loss: 0.6552 - val_acc: 0.8610\n",
      "Epoch 2/10\n",
      " - 1s - loss: 0.6371 - acc: 0.8656 - val_loss: 0.6202 - val_acc: 0.8621\n",
      "Epoch 3/10\n",
      " - 1s - loss: 0.5765 - acc: 0.9128 - val_loss: 0.5054 - val_acc: 0.9652\n",
      "Epoch 4/10\n",
      " - 1s - loss: 0.4960 - acc: 0.9568 - val_loss: 0.4592 - val_acc: 0.9742\n",
      "Epoch 5/10\n",
      " - 1s - loss: 0.4514 - acc: 0.9672 - val_loss: 0.4360 - val_acc: 0.9540\n",
      "Epoch 6/10\n",
      " - 1s - loss: 0.4130 - acc: 0.9725 - val_loss: 0.3873 - val_acc: 0.9787\n",
      "Epoch 7/10\n",
      " - 1s - loss: 0.3766 - acc: 0.9787 - val_loss: 0.3550 - val_acc: 0.9798\n",
      "Epoch 8/10\n",
      " - 1s - loss: 0.3462 - acc: 0.9804 - val_loss: 0.3283 - val_acc: 0.9821\n",
      "Epoch 9/10\n",
      " - 1s - loss: 0.3203 - acc: 0.9826 - val_loss: 0.3054 - val_acc: 0.9821\n",
      "Epoch 10/10\n",
      " - 1s - loss: 0.2981 - acc: 0.9829 - val_loss: 0.2882 - val_acc: 0.9765\n"
     ]
    },
    {
     "data": {
      "text/plain": [
       "<keras.callbacks.History at 0x1a8a4ceca58>"
      ]
     },
     "execution_count": 173,
     "metadata": {},
     "output_type": "execute_result"
    }
   ],
   "source": [
    "#USED\n",
    "model5 = Sequential()\n",
    "model5.add(Dense(20,input_dim=1287))\n",
    "model5.add(Dense(18,activation='relu'))\n",
    "model5.add(Dropout(0.05))\n",
    "model5.add(Dense(14,activation='relu'))\n",
    "model5.add(Dense(10,activation='relu'))\n",
    "model5.add(Dropout(0.05))\n",
    "model5.add(Dense(8,activation='relu'))\n",
    "model5.add(Dense(4,activation='relu'))\n",
    "model5.add(Dropout(0.05))\n",
    "model5.add(Dense(2,activation='relu'))\n",
    "model5.add(Dense(1,activation='sigmoid'))\n",
    "\n",
    "model5.compile(optimizer='adam', loss='binary_crossentropy', metrics=['accuracy'])\n",
    "model5.fit(x_train, y_train, shuffle=True, validation_split=.2, epochs=10, batch_size=30,verbose=2)"
   ]
  },
  {
   "cell_type": "code",
   "execution_count": 183,
   "metadata": {},
   "outputs": [
    {
     "name": "stdout",
     "output_type": "stream",
     "text": [
      "Train on 3565 samples, validate on 892 samples\n",
      "Epoch 1/10\n",
      " - 5s - loss: 0.6670 - acc: 0.8553 - val_loss: 0.6311 - val_acc: 0.9496\n",
      "Epoch 2/10\n",
      " - 1s - loss: 0.5878 - acc: 0.9391 - val_loss: 0.5457 - val_acc: 0.9619\n",
      "Epoch 3/10\n",
      " - 1s - loss: 0.5217 - acc: 0.9644 - val_loss: 0.4917 - val_acc: 0.9753\n",
      "Epoch 4/10\n",
      " - 1s - loss: 0.4755 - acc: 0.9728 - val_loss: 0.4485 - val_acc: 0.9753\n",
      "Epoch 5/10\n",
      " - 1s - loss: 0.4354 - acc: 0.9787 - val_loss: 0.4116 - val_acc: 0.9843\n",
      "Epoch 6/10\n",
      " - 1s - loss: 0.3978 - acc: 0.9820 - val_loss: 0.3821 - val_acc: 0.9809\n",
      "Epoch 7/10\n",
      " - 1s - loss: 0.3655 - acc: 0.9849 - val_loss: 0.3540 - val_acc: 0.9776\n",
      "Epoch 8/10\n",
      " - 1s - loss: 0.3446 - acc: 0.9798 - val_loss: 0.3268 - val_acc: 0.9832\n",
      "Epoch 9/10\n",
      " - 1s - loss: 0.3130 - acc: 0.9854 - val_loss: 0.3024 - val_acc: 0.9865\n",
      "Epoch 10/10\n",
      " - 1s - loss: 0.2885 - acc: 0.9896 - val_loss: 0.2815 - val_acc: 0.9832\n"
     ]
    },
    {
     "data": {
      "text/plain": [
       "<keras.callbacks.History at 0x1a8b95281d0>"
      ]
     },
     "execution_count": 183,
     "metadata": {},
     "output_type": "execute_result"
    }
   ],
   "source": [
    "#USED\n",
    "model8 = Sequential()\n",
    "model8.add(Dense(20,input_dim=1287))\n",
    "model8.add(Dense(18,activation='relu'))\n",
    "model5.add(Dropout(0.05))\n",
    "model8.add(Dense(14,activation='relu'))\n",
    "model8.add(Dense(10,activation='relu'))\n",
    "model8.add(Dropout(0.05))\n",
    "model8.add(Dense(8,activation='relu'))\n",
    "model8.add(Dense(4,activation='relu'))\n",
    "model8.add(Dense(2,activation='relu'))\n",
    "model8.add(Dense(1,activation='sigmoid'))\n",
    "\n",
    "model8.compile(optimizer='adam', loss='binary_crossentropy', metrics=['accuracy'])\n",
    "model8.fit(x_train, y_train, shuffle=True, validation_split=.2, epochs=10, batch_size=30,verbose=2)"
   ]
  },
  {
   "cell_type": "code",
   "execution_count": 225,
   "metadata": {},
   "outputs": [],
   "source": [
    "#trying to implement voting ensembling\n",
    "y_pred1 = []\n",
    "y_pred2 = []\n",
    "y_pred8 = []\n",
    "y_pred4 = []\n",
    "y_pred5 = []\n",
    "y_pred6 = []\n",
    "y_pred7 = []\n",
    "\n",
    "\n",
    "for i in model1.predict(x_test):\n",
    "    if i>=0.5:\n",
    "        y_pred1.append(1)\n",
    "    else:\n",
    "        y_pred1.append(0)\n",
    "        \n",
    "for i in model2.predict(x_test):\n",
    "    if i>=0.5:\n",
    "        y_pred2.append(1)\n",
    "    else:\n",
    "        y_pred2.append(0)\n",
    "\n",
    "for i in model8.predict(x_test):\n",
    "    if i>=0.5:\n",
    "        y_pred8.append(1)\n",
    "    else:\n",
    "        y_pred8.append(0)\n",
    "\n",
    "for i in model4.predict(x_test):\n",
    "    if i>=0.5:\n",
    "        y_pred4.append(1)\n",
    "    else:\n",
    "        y_pred4.append(0)\n",
    "\n",
    "for i in model5.predict(x_test):\n",
    "    if i>=0.5:\n",
    "        y_pred5.append(1)\n",
    "    else:\n",
    "        y_pred5.append(0)\n",
    "        \n",
    "y_pred6 = clf.predict(x_test)\n",
    "y_pred7 = clf1.predict(x_test)\n",
    "\n",
    "\n",
    "y_pred = []\n",
    "for i in range(len(y_pred1)):\n",
    "    a,b,c = y_pred8[i],y_pred1[i],y_pred5[i]\n",
    "    if (a+b+c)>=2:\n",
    "        y_pred.append(1)\n",
    "    else:\n",
    "        y_pred.append(0)\n",
    "        \n",
    "y_actual = y_test   "
   ]
  },
  {
   "cell_type": "code",
   "execution_count": 230,
   "metadata": {},
   "outputs": [
    {
     "name": "stdout",
     "output_type": "stream",
     "text": [
      "f1_score: 0.9764309764309764\n"
     ]
    }
   ],
   "source": [
    "from sklearn.metrics import f1_score\n",
    "print('f1_score:',f1_score(y_actual,y_pred))"
   ]
  },
  {
   "cell_type": "code",
   "execution_count": 194,
   "metadata": {},
   "outputs": [
    {
     "name": "stdout",
     "output_type": "stream",
     "text": [
      "             precision    recall  f1-score   support\n",
      "\n",
      "        ham       0.99      1.00      1.00       965\n",
      "       spam       0.99      0.97      0.98       150\n",
      "\n",
      "avg / total       0.99      0.99      0.99      1115\n",
      "\n"
     ]
    }
   ],
   "source": [
    "from sklearn.metrics import classification_report\n",
    "print(classification_report(y_actual,y_pred,target_names=['ham', 'spam']))"
   ]
  },
  {
   "cell_type": "code",
   "execution_count": 231,
   "metadata": {},
   "outputs": [],
   "source": [
    "#model8.save('model8.h5')\n",
    "#model1.save('model1.h5')\n",
    "#model5.save('model5.h5')"
   ]
  }
 ],
 "metadata": {
  "kernelspec": {
   "display_name": "Python 3",
   "language": "python",
   "name": "python3"
  },
  "language_info": {
   "codemirror_mode": {
    "name": "ipython",
    "version": 3
   },
   "file_extension": ".py",
   "mimetype": "text/x-python",
   "name": "python",
   "nbconvert_exporter": "python",
   "pygments_lexer": "ipython3",
   "version": "3.5.5"
  }
 },
 "nbformat": 4,
 "nbformat_minor": 2
}
