{
 "cells": [
  {
   "cell_type": "code",
   "execution_count": 1,
   "metadata": {},
   "outputs": [
    {
     "name": "stderr",
     "output_type": "stream",
     "text": [
      "c:\\users\\bajuka\\anaconda3\\envs\\tensorflow\\lib\\importlib\\_bootstrap.py:222: RuntimeWarning: numpy.dtype size changed, may indicate binary incompatibility. Expected 96, got 88\n",
      "  return f(*args, **kwds)\n",
      "c:\\users\\bajuka\\anaconda3\\envs\\tensorflow\\lib\\importlib\\_bootstrap.py:222: RuntimeWarning: numpy.dtype size changed, may indicate binary incompatibility. Expected 96, got 88\n",
      "  return f(*args, **kwds)\n",
      "c:\\users\\bajuka\\anaconda3\\envs\\tensorflow\\lib\\importlib\\_bootstrap.py:222: RuntimeWarning: numpy.dtype size changed, may indicate binary incompatibility. Expected 96, got 88\n",
      "  return f(*args, **kwds)\n"
     ]
    }
   ],
   "source": [
    "import tensorflow as tf\n",
    "import numpy"
   ]
  },
  {
   "cell_type": "markdown",
   "metadata": {},
   "source": [
    "# How the network is going to be\n",
    "input > weight > hidden layer1 > (activation function) > weights > hidden layer 2 > (activation function) > weights > hidden layer3 > (activation function) > weights > output<br>\n",
    "compare output to inteded output > cost function (cross entropy)<br>\n",
    "use an optimizer > minimize cost (AdamOptimizer)"
   ]
  },
  {
   "cell_type": "code",
   "execution_count": 3,
   "metadata": {},
   "outputs": [
    {
     "name": "stdout",
     "output_type": "stream",
     "text": [
      "WARNING:tensorflow:From <ipython-input-3-cf6575626ead>:3: read_data_sets (from tensorflow.contrib.learn.python.learn.datasets.mnist) is deprecated and will be removed in a future version.\n",
      "Instructions for updating:\n",
      "Please use alternatives such as official/mnist/dataset.py from tensorflow/models.\n",
      "WARNING:tensorflow:From c:\\users\\bajuka\\anaconda3\\envs\\tensorflow\\lib\\site-packages\\tensorflow\\contrib\\learn\\python\\learn\\datasets\\mnist.py:260: maybe_download (from tensorflow.contrib.learn.python.learn.datasets.base) is deprecated and will be removed in a future version.\n",
      "Instructions for updating:\n",
      "Please write your own downloading logic.\n",
      "WARNING:tensorflow:From c:\\users\\bajuka\\anaconda3\\envs\\tensorflow\\lib\\site-packages\\tensorflow\\contrib\\learn\\python\\learn\\datasets\\mnist.py:262: extract_images (from tensorflow.contrib.learn.python.learn.datasets.mnist) is deprecated and will be removed in a future version.\n",
      "Instructions for updating:\n",
      "Please use tf.data to implement this functionality.\n",
      "Extracting digits/train-images-idx3-ubyte.gz\n",
      "WARNING:tensorflow:From c:\\users\\bajuka\\anaconda3\\envs\\tensorflow\\lib\\site-packages\\tensorflow\\contrib\\learn\\python\\learn\\datasets\\mnist.py:267: extract_labels (from tensorflow.contrib.learn.python.learn.datasets.mnist) is deprecated and will be removed in a future version.\n",
      "Instructions for updating:\n",
      "Please use tf.data to implement this functionality.\n",
      "Extracting digits/train-labels-idx1-ubyte.gz\n",
      "WARNING:tensorflow:From c:\\users\\bajuka\\anaconda3\\envs\\tensorflow\\lib\\site-packages\\tensorflow\\contrib\\learn\\python\\learn\\datasets\\mnist.py:110: dense_to_one_hot (from tensorflow.contrib.learn.python.learn.datasets.mnist) is deprecated and will be removed in a future version.\n",
      "Instructions for updating:\n",
      "Please use tf.one_hot on tensors.\n",
      "Extracting digits/t10k-images-idx3-ubyte.gz\n",
      "Extracting digits/t10k-labels-idx1-ubyte.gz\n",
      "WARNING:tensorflow:From c:\\users\\bajuka\\anaconda3\\envs\\tensorflow\\lib\\site-packages\\tensorflow\\contrib\\learn\\python\\learn\\datasets\\mnist.py:290: DataSet.__init__ (from tensorflow.contrib.learn.python.learn.datasets.mnist) is deprecated and will be removed in a future version.\n",
      "Instructions for updating:\n",
      "Please use alternatives such as official/mnist/dataset.py from tensorflow/models.\n"
     ]
    }
   ],
   "source": [
    "from tensorflow.examples.tutorials.mnist import input_data\n",
    "\n",
    "mnist = input_data.read_data_sets('digits/',one_hot=True)"
   ]
  },
  {
   "cell_type": "code",
   "execution_count": 11,
   "metadata": {},
   "outputs": [],
   "source": [
    "nodes_hl1 = 128\n",
    "nodes_hl2 = 128\n",
    "nodes_hl3 = 128\n",
    "n_classes = 10\n",
    "batch_size = 100\n",
    "\n",
    "x = tf.placeholder('float',[None,784])\n",
    "y = tf.placeholder('float')\n",
    "\n",
    "\n",
    "def neural_network(data):\n",
    "    \n",
    "    hidden_layer1 = {'weights':tf.Variable(tf.random_normal([784,nodes_hl1])) ,  'bias':tf.Variable(tf.random_normal([nodes_hl1]))}\n",
    "    hidden_layer2 = {'weights':tf.Variable(tf.random_normal([nodes_hl1,nodes_hl2])) ,  'bias':tf.Variable(tf.random_normal([nodes_hl2]))}\n",
    "    hidden_layer3 = {'weights':tf.Variable(tf.random_normal([nodes_hl2,nodes_hl3])) ,  'bias':tf.Variable(tf.random_normal([nodes_hl3]))}\n",
    "    output_layer = {'weights':tf.Variable(tf.random_normal([nodes_hl3,n_classes])) ,  'bias':tf.Variable(tf.random_normal([n_classes]))}\n",
    "    \n",
    "    l1 = tf.add(tf.matmul(data ,hidden_layer1[\"weights\"] ),hidden_layer1[\"bias\"])\n",
    "    l1 = tf.nn.relu(l1)\n",
    "    \n",
    "    l2 = tf.add(tf.matmul(l1 ,hidden_layer2[\"weights\"] ),hidden_layer2[\"bias\"])\n",
    "    l2 = tf.nn.relu(l2)\n",
    "    \n",
    "    l3 = tf.add(tf.matmul(l2 ,hidden_layer3[\"weights\"] ),hidden_layer3[\"bias\"])\n",
    "    l3 = tf.nn.relu(l3)\n",
    "    \n",
    "    output = tf.add(tf.matmul(l3 ,output_layer[\"weights\"] ),output_layer[\"bias\"])\n",
    "    \n",
    "    \n",
    "    return output\n",
    "    \n",
    "    \n",
    "    \n",
    "\n"
   ]
  },
  {
   "cell_type": "code",
   "execution_count": 22,
   "metadata": {},
   "outputs": [],
   "source": [
    "def train_neural_network(x,y):\n",
    "    prediction = neural_network(x)\n",
    "    cost = tf.reduce_mean(tf.nn.softmax_cross_entropy_with_logits(logits=prediction,labels=y))\n",
    "    optimizer = tf.train.AdamOptimizer().minimize(cost)\n",
    "    \n",
    "    n_epochs = 30\n",
    "    \n",
    "    with tf.Session() as sess:\n",
    "        sess.run(tf.global_variables_initializer())\n",
    "        \n",
    "        for epoch in range(n_epochs):\n",
    "            epoch_loss = 0\n",
    "            for _ in range(int(mnist.train.num_examples/batch_size)):\n",
    "                x_train , y_train = mnist.train.next_batch(batch_size)\n",
    "                _, c= sess.run([optimizer,cost], feed_dict = {x:x_train, y:y_train})\n",
    "                epoch_loss += c\n",
    "            print(\"Completed epoch\",epoch+1,\"loss =\",epoch_loss)\n",
    "        \n",
    "        correct = tf.equal(tf.argmax(prediction,1),tf.argmax(y,1))\n",
    "        accuracy = tf.reduce_mean(tf.cast(correct,'float'))\n",
    "        print(\"Accuracy =\",accuracy.eval({x:mnist.test.images, y:mnist.test.labels}))"
   ]
  },
  {
   "cell_type": "code",
   "execution_count": 23,
   "metadata": {},
   "outputs": [
    {
     "name": "stdout",
     "output_type": "stream",
     "text": [
      "Completed epoch 1 loss = 373163.37327575684\n",
      "Completed epoch 2 loss = 93475.10258674622\n",
      "Completed epoch 3 loss = 58916.694301605225\n",
      "Completed epoch 4 loss = 42095.21485006809\n",
      "Completed epoch 5 loss = 32122.187429606915\n",
      "Completed epoch 6 loss = 24923.89893680811\n",
      "Completed epoch 7 loss = 19765.474375128746\n",
      "Completed epoch 8 loss = 15849.531391344965\n",
      "Completed epoch 9 loss = 12860.365099773673\n",
      "Completed epoch 10 loss = 10393.798550263047\n",
      "Completed epoch 11 loss = 8406.12389844715\n",
      "Completed epoch 12 loss = 7022.8700810854725\n",
      "Completed epoch 13 loss = 5603.362727849283\n",
      "Completed epoch 14 loss = 4677.818519979976\n",
      "Completed epoch 15 loss = 3832.8792562715025\n",
      "Completed epoch 16 loss = 3058.2410473542964\n",
      "Completed epoch 17 loss = 2713.2068391279463\n",
      "Completed epoch 18 loss = 2177.0616487003754\n",
      "Completed epoch 19 loss = 1844.1712038046614\n",
      "Completed epoch 20 loss = 1610.2724526526065\n",
      "Completed epoch 21 loss = 1318.6514121941136\n",
      "Completed epoch 22 loss = 1068.0832937053237\n",
      "Completed epoch 23 loss = 903.6026772895588\n",
      "Completed epoch 24 loss = 927.2386441178359\n",
      "Completed epoch 25 loss = 826.3909746243075\n",
      "Completed epoch 26 loss = 679.4017921282365\n",
      "Completed epoch 27 loss = 625.0522260909149\n",
      "Completed epoch 28 loss = 673.1623549799783\n",
      "Completed epoch 29 loss = 566.3920776456778\n",
      "Completed epoch 30 loss = 552.5559246696437\n",
      "Accuracy = 0.9393\n"
     ]
    }
   ],
   "source": [
    "train_neural_network(x,y)"
   ]
  }
 ],
 "metadata": {
  "kernelspec": {
   "display_name": "Python 3",
   "language": "python",
   "name": "python3"
  },
  "language_info": {
   "codemirror_mode": {
    "name": "ipython",
    "version": 3
   },
   "file_extension": ".py",
   "mimetype": "text/x-python",
   "name": "python",
   "nbconvert_exporter": "python",
   "pygments_lexer": "ipython3",
   "version": "3.5.5"
  }
 },
 "nbformat": 4,
 "nbformat_minor": 2
}
